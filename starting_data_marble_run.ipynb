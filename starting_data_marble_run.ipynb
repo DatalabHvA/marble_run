{
 "cells": [
  {
   "cell_type": "code",
   "execution_count": 1,
   "id": "119fc7a3-8028-4659-8588-46f5e2f0395a",
   "metadata": {},
   "outputs": [],
   "source": [
    "# Import necessary libraries\n",
    "import pandas as pd\n",
    "from sklearn.linear_model import LinearRegression\n",
    "from sklearn.ensemble import RandomForestRegressor\n",
    "from sklearn.metrics import mean_squared_error\n",
    "from sklearn.model_selection import train_test_split\n",
    "import joblib\n",
    "import numpy as np\n",
    "from io import StringIO"
   ]
  },
  {
   "cell_type": "code",
   "execution_count": 2,
   "id": "45f1689c-b5cd-4862-97e1-761009ab5cb0",
   "metadata": {},
   "outputs": [],
   "source": [
    "csv = \"\"\"\n",
    "recht,gebogen,pijpje,knikker,tijd\n",
    "2,2,1,A,3.51\n",
    "1,0,4,A,1.72\n",
    "0,1,4,A,2.11\n",
    "0,3,0,A,2.98\n",
    "3,4,1,A,4.37\n",
    "\"\"\"\n",
    "\n",
    "# Load your dataset\n",
    "data = pd.read_csv(StringIO(csv))\n",
    "data.head()\n",
    "\n",
    "data['knikker_encoded'] = np.where(data['knikker'] == 'A' , 1,0)"
   ]
  },
  {
   "cell_type": "code",
   "execution_count": 3,
   "id": "d3b9ba4d-d7a9-4468-a042-f6927aefe362",
   "metadata": {},
   "outputs": [],
   "source": [
    "\n",
    "# Split data into features and target\n",
    "X = data[['recht','gebogen','pijpje', 'knikker_encoded']]\n",
    "y = data['tijd']\n",
    "\n",
    "# Split data into training and testing sets\n",
    "X_train, X_test, y_train, y_test = train_test_split(X, y, test_size=0.2, random_state=42)"
   ]
  },
  {
   "cell_type": "code",
   "execution_count": 4,
   "id": "0d215d18-d199-4fb8-b7aa-8710998abf60",
   "metadata": {},
   "outputs": [],
   "source": [
    "data[['recht','gebogen','pijpje', 'knikker_encoded', 'tijd']].to_csv('marble_run_data.csv')"
   ]
  },
  {
   "cell_type": "code",
   "execution_count": 5,
   "id": "e2ff3a88-c678-4aa1-9bdc-e2eddf2c7e59",
   "metadata": {},
   "outputs": [
    {
     "data": {
      "text/plain": [
       "['marble_run_model_rf.pkl']"
      ]
     },
     "execution_count": 5,
     "metadata": {},
     "output_type": "execute_result"
    }
   ],
   "source": [
    "\n",
    "# Create and train a Linear Regression model\n",
    "model_lm = LinearRegression()\n",
    "model_lm.fit(X_train, y_train)\n",
    "\n",
    "model_rf = RandomForestRegressor()\n",
    "model_rf.fit(X_train, y_train)\n",
    "\n",
    "joblib.dump(model_lm, 'marble_run_model_lm.pkl')\n",
    "joblib.dump(model_rf, 'marble_run_model_rf.pkl')"
   ]
  },
  {
   "cell_type": "code",
   "execution_count": 6,
   "id": "6e00430f-6dd4-4c90-8c3a-0a58e7b81aea",
   "metadata": {},
   "outputs": [
    {
     "name": "stdout",
     "output_type": "stream",
     "text": [
      "Initial Mean Squared Error: 0.36\n"
     ]
    }
   ],
   "source": [
    "# Calculate the initial mean squared error\n",
    "initial_mse = mean_squared_error(y_test, model_lm.predict(X_test))\n",
    "print(f\"Initial Mean Squared Error: {initial_mse:.2f}\")\n"
   ]
  },
  {
   "cell_type": "code",
   "execution_count": 7,
   "id": "c47e72fb-e51b-4274-8a47-8d98fda2865f",
   "metadata": {},
   "outputs": [
    {
     "name": "stdout",
     "output_type": "stream",
     "text": [
      "Initial Mean Squared Error: 0.79\n"
     ]
    }
   ],
   "source": [
    "# Calculate the initial mean squared error\n",
    "initial_mse = mean_squared_error(y_test, model_rf.predict(X_test))\n",
    "print(f\"Initial Mean Squared Error: {initial_mse:.2f}\")"
   ]
  },
  {
   "cell_type": "code",
   "execution_count": null,
   "id": "b6bef17a-a73f-4907-9550-2c288f3eb107",
   "metadata": {},
   "outputs": [],
   "source": []
  },
  {
   "cell_type": "code",
   "execution_count": null,
   "id": "8e66422c",
   "metadata": {},
   "outputs": [],
   "source": []
  }
 ],
 "metadata": {
  "kernelspec": {
   "display_name": "Python 3 (ipykernel)",
   "language": "python",
   "name": "python3"
  },
  "language_info": {
   "codemirror_mode": {
    "name": "ipython",
    "version": 3
   },
   "file_extension": ".py",
   "mimetype": "text/x-python",
   "name": "python",
   "nbconvert_exporter": "python",
   "pygments_lexer": "ipython3",
   "version": "3.11.4"
  }
 },
 "nbformat": 4,
 "nbformat_minor": 5
}
